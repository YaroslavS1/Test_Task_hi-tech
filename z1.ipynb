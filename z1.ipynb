{
 "metadata": {
  "language_info": {
   "codemirror_mode": {
    "name": "ipython",
    "version": 3
   },
   "file_extension": ".py",
   "mimetype": "text/x-python",
   "name": "python",
   "nbconvert_exporter": "python",
   "pygments_lexer": "ipython3",
   "version": "3.9.4"
  },
  "orig_nbformat": 2,
  "kernelspec": {
   "name": "pythonjvsc74a57bd088676ac0e0de83e135c7d52d72948f746044dbb9db85303bf6139d661af58286",
   "display_name": "Python 3.9.4  ('venv': venv)"
  },
  "metadata": {
   "interpreter": {
    "hash": "88676ac0e0de83e135c7d52d72948f746044dbb9db85303bf6139d661af58286"
   }
  }
 },
 "nbformat": 4,
 "nbformat_minor": 2,
 "cells": [
  {
   "cell_type": "code",
   "execution_count": 1,
   "metadata": {},
   "outputs": [],
   "source": [
    "import numpy as np\n",
    "import time"
   ]
  },
  {
   "source": [
    "## 1. Создайте список (list) и массив (ndarray), содержащие числа от 0 до 100 000 000."
   ],
   "cell_type": "markdown",
   "metadata": {}
  },
  {
   "cell_type": "code",
   "execution_count": 2,
   "metadata": {},
   "outputs": [],
   "source": [
    "def f_list():\n",
    "    \"\"\"Cписок (list), содержащий числа от 0 до 100 000 000.\"\"\"\n",
    "    a = list(range(100000000+1))\n",
    "    return a\n",
    "\n",
    "def f_array():\n",
    "    \"\"\"Массив (ndarray), содержащий числа от 0 до 100 000 000.\"\"\"\n",
    "    a = np.arange(0, 100000000+1, 1)\n",
    "    return a"
   ]
  },
  {
   "source": [
    "## 2. Напишите функцию, которая вычисляет сумму всех элементов массива, используя цикл for.\n"
   ],
   "cell_type": "markdown",
   "metadata": {}
  },
  {
   "cell_type": "code",
   "execution_count": 3,
   "metadata": {},
   "outputs": [],
   "source": [
    "def mySum(a):\n",
    "    \"\"\"Сумма всех элементов списка/массива\"\"\"\n",
    "    s = 0\n",
    "    for i in a:\n",
    "        s += i\n",
    "    return s"
   ]
  },
  {
   "source": [
    "## 3. Замерьте: время выполнения этой функции на списке и на массиве, время выполнения функции sum() на списке и на массиве, время выполнения функции numpy.sum() на списке и на массиве."
   ],
   "cell_type": "markdown",
   "metadata": {}
  },
  {
   "cell_type": "code",
   "execution_count": 4,
   "metadata": {},
   "outputs": [
    {
     "output_type": "stream",
     "name": "stdout",
     "text": [
      "mySum(list)    |        34.727349787\n",
      "mySum(ndarray) |  17.980246779999995\n",
      "---------------|--------------------\n",
      "sum(list)      |  1.7653770670000029\n",
      "sum(ndarray)   |  14.083900064999995\n",
      "---------------|--------------------\n",
      "np.sum(list)   |  15.854714311999999\n",
      "np.sum(ndarray)| 0.13459845799999925\n"
     ]
    }
   ],
   "source": [
    "def mete_time_f(f, f_s):\n",
    "    a = f()\n",
    "    start = time.process_time()\n",
    "    f_s(a)\n",
    "    elapsed = (time.process_time() - start)\n",
    "    return elapsed\n",
    "\n",
    "print('{:15}|{:20}'.format('mySum(list)', mete_time_f(f_list, mySum)))\n",
    "print('{:15}|{:20}'.format('mySum(ndarray)', mete_time_f(f_array, mySum)))\n",
    "print('{:15}|{:20}'.format('-'*15, '-'*20))\n",
    "print('{:15}|{:20}'.format('sum(list)', mete_time_f(f_list, sum)))\n",
    "print('{:15}|{:20}'.format('sum(ndarray)', mete_time_f(f_array, sum)))\n",
    "print('{:15}|{:20}'.format('-'*15, '-'*20))\n",
    "print('{:15}|{:20}'.format('np.sum(list)', mete_time_f(f_list, np.sum)))\n",
    "print('{:15}|{:20}'.format('np.sum(ndarray)', mete_time_f(f_array, np.sum)))"
   ]
  },
  {
   "source": [
    "Функция где сумма находится через цикл for, является более медленной, так как sum и np.sum реализованы на более быстром C.\n",
    "\n",
    "sum для списка выполняется быстрее чем для массива, так как не нужно выполнять преобразование типов.\n",
    "\n",
    "np.sum показывает учшее время с массивом numpy, по причине того, что сначала идет проверка типов, потом преобразования, а уже потом расчеты."
   ],
   "cell_type": "markdown",
   "metadata": {}
  }
 ]
}