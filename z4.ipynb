{
 "metadata": {
  "language_info": {
   "codemirror_mode": {
    "name": "ipython",
    "version": 3
   },
   "file_extension": ".py",
   "mimetype": "text/x-python",
   "name": "python",
   "nbconvert_exporter": "python",
   "pygments_lexer": "ipython3",
   "version": "3.9.4"
  },
  "orig_nbformat": 2,
  "kernelspec": {
   "name": "pythonjvsc74a57bd088676ac0e0de83e135c7d52d72948f746044dbb9db85303bf6139d661af58286",
   "display_name": "Python 3.9.4  ('venv': venv)"
  },
  "metadata": {
   "interpreter": {
    "hash": "88676ac0e0de83e135c7d52d72948f746044dbb9db85303bf6139d661af58286"
   }
  }
 },
 "nbformat": 4,
 "nbformat_minor": 2,
 "cells": [
  {
   "cell_type": "code",
   "execution_count": 1,
   "metadata": {},
   "outputs": [],
   "source": [
    "from collections import defaultdict\n",
    "from typing import List, Tuple\n",
    "import copy as cp"
   ]
  },
  {
   "source": [
    "## 1. Разработайте функцию, находящую наиболее длинную подстроку в строке без повторяющихся символов. Поясните асимптотическую сложность алгоритма."
   ],
   "cell_type": "markdown",
   "metadata": {}
  },
  {
   "cell_type": "code",
   "execution_count": 2,
   "metadata": {},
   "outputs": [],
   "source": [
    "def longest_substring(s: str) -> Tuple[str, int]:\n",
    "    strng = None\n",
    "    len_strng = 0\n",
    "    for i in range(len(s)):\n",
    "        for j in range(i, len(s)):\n",
    "            new_str = s[i:j]\n",
    "            for k in new_str:\n",
    "                flag = 1\n",
    "                if new_str.count(k) > 1:\n",
    "                    flag = 0\n",
    "                    break\n",
    "            if len(new_str) > len_strng and flag == 1:\n",
    "                strng = cp.deepcopy(new_str)\n",
    "                len_strng = len(strng)\n",
    "    return [strng, len_strng]"
   ]
  },
  {
   "cell_type": "code",
   "execution_count": 3,
   "metadata": {},
   "outputs": [
    {
     "output_type": "stream",
     "name": "stdout",
     "text": [
      "['abc', 3]\n['b', 1]\n['wke', 3]\n"
     ]
    }
   ],
   "source": [
    "print(longest_substring(\"abcabcbb\"))\n",
    "print(longest_substring(\"bbbbb\"))\n",
    "print(longest_substring(\"pwwkew\"))"
   ]
  },
  {
   "source": [
    "## 2. Разработайте функцию группировки анаграмм из заданного списка слов"
   ],
   "cell_type": "markdown",
   "metadata": {}
  },
  {
   "cell_type": "code",
   "execution_count": 4,
   "metadata": {},
   "outputs": [],
   "source": [
    "def group_anagrams(words: List[str]) -> List[List[str]]:\n",
    "    temp = defaultdict(list)\n",
    "    for ele in words:\n",
    "        temp[str(sorted(ele))].append(ele)\n",
    "    res = list(temp.values())\n",
    "    return res"
   ]
  },
  {
   "cell_type": "code",
   "execution_count": 5,
   "metadata": {},
   "outputs": [
    {
     "output_type": "stream",
     "name": "stdout",
     "text": [
      "[['eat', 'tea', 'ate'], ['tan', 'nat'], ['bat']]\n"
     ]
    }
   ],
   "source": [
    "print(group_anagrams([\"eat\", \"tea\", \"tan\", \"ate\", \"nat\", \"bat\"]))"
   ]
  }
 ]
}