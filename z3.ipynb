{
 "metadata": {
  "language_info": {
   "codemirror_mode": {
    "name": "ipython",
    "version": 3
   },
   "file_extension": ".py",
   "mimetype": "text/x-python",
   "name": "python",
   "nbconvert_exporter": "python",
   "pygments_lexer": "ipython3",
   "version": "3.9.4"
  },
  "orig_nbformat": 2,
  "kernelspec": {
   "name": "pythonjvsc74a57bd088676ac0e0de83e135c7d52d72948f746044dbb9db85303bf6139d661af58286",
   "display_name": "Python 3.9.4  ('venv': venv)"
  },
  "metadata": {
   "interpreter": {
    "hash": "88676ac0e0de83e135c7d52d72948f746044dbb9db85303bf6139d661af58286"
   }
  }
 },
 "nbformat": 4,
 "nbformat_minor": 2,
 "cells": [
  {
   "cell_type": "code",
   "execution_count": 1,
   "metadata": {},
   "outputs": [],
   "source": [
    "from typing import List, Tuple\n",
    "import copy as cp\n",
    "from collections import defaultdict"
   ]
  },
  {
   "source": [
    "## 1. Реализуйте функцию для создания связанного списка по входному массиву чисел."
   ],
   "cell_type": "markdown",
   "metadata": {}
  },
  {
   "cell_type": "code",
   "execution_count": 2,
   "metadata": {},
   "outputs": [],
   "source": [
    "class Node:\n",
    "    def __init__(self, value=None, next=None):\n",
    "        self.val = value\n",
    "        self.next = next\n",
    "\n",
    "def to_linked_list(array: List[int]) -> Node:\n",
    "    if len(array) == 0:\n",
    "        return None\n",
    "    return Node(array[0], to_linked_list(array[1:]))"
   ]
  },
  {
   "cell_type": "code",
   "execution_count": 3,
   "metadata": {},
   "outputs": [
    {
     "output_type": "stream",
     "name": "stdout",
     "text": [
      "1\n2\n3\n4\n"
     ]
    }
   ],
   "source": [
    "head = to_linked_list([1, 2, 3, 4])\n",
    "\n",
    "print(head.val)\n",
    "print(head.next.val)\n",
    "print(head.next.next.val)\n",
    "print(head.next.next.next.val)"
   ]
  },
  {
   "source": [
    "## 2. Реализуйте функцию для отображения списка в виде строки по заданному формату. Поясните требуемый для функции объем памяти."
   ],
   "cell_type": "markdown",
   "metadata": {}
  },
  {
   "cell_type": "code",
   "execution_count": 4,
   "metadata": {},
   "outputs": [],
   "source": [
    "def linked_list_to_str(head: Node) -> str:\n",
    "    strng = \"\"\n",
    "    tmp = cp.deepcopy(head)\n",
    "    while True:\n",
    "        strng += str(tmp.val)\n",
    "        tmp = cp.deepcopy(tmp.next)\n",
    "        if tmp == None:\n",
    "            break\n",
    "        strng += \" -> \"         \n",
    "    return strng"
   ]
  },
  {
   "cell_type": "code",
   "execution_count": 5,
   "metadata": {},
   "outputs": [
    {
     "output_type": "stream",
     "name": "stdout",
     "text": [
      "1 -> 2 -> 3\n0 -> 1 -> 2 -> 3 -> 4 -> 5 -> 6 -> 7 -> 8 -> 9\n"
     ]
    }
   ],
   "source": [
    "print(linked_list_to_str(to_linked_list([1, 2, 3])))\n",
    "print(linked_list_to_str(to_linked_list(range(10))))"
   ]
  },
  {
   "source": [
    "## 3. Реализуйте функцию удаления N-ого узла с конца списка. Копировать элементы списка (создавать новые экземпляры класса Node внутри функции `remove_n_th_node` запрещено). Поясните асимптотическую сложность алгоритма."
   ],
   "cell_type": "markdown",
   "metadata": {}
  },
  {
   "cell_type": "code",
   "execution_count": 6,
   "metadata": {},
   "outputs": [],
   "source": [
    "def remove_n_th_node(head: Node, n: int) -> Node:\n",
    "    if not head.next:\n",
    "        return None\n",
    "    front=head\n",
    "    back = head\n",
    "    counter = 0\n",
    "    flag = False\n",
    "    while counter<=n:\n",
    "        if(not front):\n",
    "            flag = True\n",
    "            break\n",
    "        front = front.next\n",
    "        counter+=1\n",
    "    while front:\n",
    "        front = front.next\n",
    "        back = back.next\n",
    "    if not flag:\n",
    "        temp = back.next\n",
    "        back.next = temp.next\n",
    "        temp.next = None\n",
    "    else:\n",
    "        head = head.next\n",
    "    return head"
   ]
  },
  {
   "cell_type": "code",
   "execution_count": 8,
   "metadata": {},
   "outputs": [
    {
     "output_type": "stream",
     "name": "stdout",
     "text": [
      "0 -> 1 -> 2 -> 3 -> 4 -> 5 -> 6 -> 7 -> 8 -> 9\n0 -> 1 -> 2 -> 3 -> 4 -> 5 -> 6 -> 8 -> 9\n"
     ]
    }
   ],
   "source": [
    "head = to_linked_list(range(10))\n",
    "print(linked_list_to_str(head))\n",
    "\n",
    "new_head = remove_n_th_node(head, 3)\n",
    "print(linked_list_to_str(head))"
   ]
  }
 ]
}